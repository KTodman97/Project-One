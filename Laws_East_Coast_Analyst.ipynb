{
 "cells": [
  {
   "cell_type": "code",
   "execution_count": 1,
   "metadata": {},
   "outputs": [],
   "source": [
    "%matplotlib inline\n",
    "\n",
    "import numpy as np\n",
    "import pandas as pd\n",
    "import datetime\n",
    "import matplotlib.pyplot as plt\n",
    "import seaborn as sns"
   ]
  },
  {
   "cell_type": "code",
   "execution_count": 2,
   "metadata": {},
   "outputs": [],
   "source": [
    "# import\n",
    "st_law_bars = pd.read_csv(\"output_data/e_coast_laws_by_state.csv\")"
   ]
  },
  {
   "cell_type": "code",
   "execution_count": 3,
   "metadata": {},
   "outputs": [
    {
     "data": {
      "text/html": [
       "<div>\n",
       "<style scoped>\n",
       "    .dataframe tbody tr th:only-of-type {\n",
       "        vertical-align: middle;\n",
       "    }\n",
       "\n",
       "    .dataframe tbody tr th {\n",
       "        vertical-align: top;\n",
       "    }\n",
       "\n",
       "    .dataframe thead th {\n",
       "        text-align: right;\n",
       "    }\n",
       "</style>\n",
       "<table border=\"1\" class=\"dataframe\">\n",
       "  <thead>\n",
       "    <tr style=\"text-align: right;\">\n",
       "      <th></th>\n",
       "      <th>Unnamed: 0</th>\n",
       "      <th>State</th>\n",
       "      <th>Main Interest Type</th>\n",
       "      <th>Supplemental Interest Type</th>\n",
       "      <th>Start of Relief</th>\n",
       "      <th>Create_dt of Relief</th>\n",
       "    </tr>\n",
       "  </thead>\n",
       "  <tbody>\n",
       "    <tr>\n",
       "      <th>0</th>\n",
       "      <td>6</td>\n",
       "      <td>al</td>\n",
       "      <td>ICIS-NPDES NON-MAJOR</td>\n",
       "      <td>ENFORCEMENT/COMPLIANCE ACTIVITY</td>\n",
       "      <td>2014.0</td>\n",
       "      <td>05-JUN-2018 00:00:00</td>\n",
       "    </tr>\n",
       "    <tr>\n",
       "      <th>1</th>\n",
       "      <td>7</td>\n",
       "      <td>al</td>\n",
       "      <td>STORM WATER INDUSTRIAL</td>\n",
       "      <td>ENFORCEMENT/COMPLIANCE ACTIVITY</td>\n",
       "      <td>2014.0</td>\n",
       "      <td>05-JUN-2018 00:00:00</td>\n",
       "    </tr>\n",
       "    <tr>\n",
       "      <th>2</th>\n",
       "      <td>135</td>\n",
       "      <td>al</td>\n",
       "      <td>STORM WATER INDUSTRIAL</td>\n",
       "      <td>ENFORCEMENT/COMPLIANCE ACTIVITY</td>\n",
       "      <td>2016.0</td>\n",
       "      <td>04-OCT-2017 00:00:00</td>\n",
       "    </tr>\n",
       "    <tr>\n",
       "      <th>3</th>\n",
       "      <td>138</td>\n",
       "      <td>al</td>\n",
       "      <td>ICIS-NPDES NON-MAJOR</td>\n",
       "      <td>ENFORCEMENT/COMPLIANCE ACTIVITY</td>\n",
       "      <td>2016.0</td>\n",
       "      <td>04-OCT-2017 00:00:00</td>\n",
       "    </tr>\n",
       "    <tr>\n",
       "      <th>4</th>\n",
       "      <td>141</td>\n",
       "      <td>al</td>\n",
       "      <td>TRI REPORTER</td>\n",
       "      <td>ENFORCEMENT/COMPLIANCE ACTIVITY</td>\n",
       "      <td>2015.0</td>\n",
       "      <td>01-SEP-2017 13:52:55</td>\n",
       "    </tr>\n",
       "  </tbody>\n",
       "</table>\n",
       "</div>"
      ],
      "text/plain": [
       "   Unnamed: 0 State      Main Interest Type       Supplemental Interest Type  \\\n",
       "0           6    al    ICIS-NPDES NON-MAJOR  ENFORCEMENT/COMPLIANCE ACTIVITY   \n",
       "1           7    al  STORM WATER INDUSTRIAL  ENFORCEMENT/COMPLIANCE ACTIVITY   \n",
       "2         135    al  STORM WATER INDUSTRIAL  ENFORCEMENT/COMPLIANCE ACTIVITY   \n",
       "3         138    al    ICIS-NPDES NON-MAJOR  ENFORCEMENT/COMPLIANCE ACTIVITY   \n",
       "4         141    al            TRI REPORTER  ENFORCEMENT/COMPLIANCE ACTIVITY   \n",
       "\n",
       "   Start of Relief   Create_dt of Relief  \n",
       "0           2014.0  05-JUN-2018 00:00:00  \n",
       "1           2014.0  05-JUN-2018 00:00:00  \n",
       "2           2016.0  04-OCT-2017 00:00:00  \n",
       "3           2016.0  04-OCT-2017 00:00:00  \n",
       "4           2015.0  01-SEP-2017 13:52:55  "
      ]
     },
     "execution_count": 3,
     "metadata": {},
     "output_type": "execute_result"
    }
   ],
   "source": [
    "st_law_bars_wtr = st_law_bars[~st_law_bars['Main Interest Type'].str.contains('AIR', na=False)]\n",
    "st_law_bars_wtr = st_law_bars[~st_law_bars['Supplemental Interest Type'].str.contains('AIR|REMEDIATION|FUNDING', na=False)]\n",
    "st_law_bars_wtr.head()"
   ]
  },
  {
   "cell_type": "code",
   "execution_count": 4,
   "metadata": {},
   "outputs": [
    {
     "data": {
      "text/plain": [
       "2014.0    29689\n",
       "2015.0    24103\n",
       "2017.0    14594\n",
       "2016.0    12068\n",
       "2018.0     7003\n",
       "Name: Start of Relief, dtype: int64"
      ]
     },
     "execution_count": 4,
     "metadata": {},
     "output_type": "execute_result"
    }
   ],
   "source": [
    "df = st_law_bars_wtr\n",
    "df['Start of Relief'].value_counts()"
   ]
  },
  {
   "cell_type": "code",
   "execution_count": 5,
   "metadata": {},
   "outputs": [
    {
     "data": {
      "text/plain": [
       "array(['al', 'ct', 'de', 'ga', 'la', 'ma', 'md', 'me', 'ms', 'nc', 'nh',\n",
       "       'nj', 'ny', 'ri', 'sc', 'va'], dtype=object)"
      ]
     },
     "execution_count": 5,
     "metadata": {},
     "output_type": "execute_result"
    }
   ],
   "source": [
    "df.State.unique()"
   ]
  },
  {
   "cell_type": "code",
   "execution_count": 6,
   "metadata": {},
   "outputs": [
    {
     "data": {
      "text/plain": [
       "STATE MASTER                                  70085\n",
       "ICIS-NPDES NON-MAJOR                           4769\n",
       "FORMAL ENFORCEMENT ACTION                      3870\n",
       "ICIS-NPDES UNPERMITTED                         2110\n",
       "ENFORCEMENT/COMPLIANCE ACTIVITY                1682\n",
       "STORM WATER INDUSTRIAL                         1089\n",
       "STORM WATER CONSTRUCTION                        900\n",
       "LQG                                             528\n",
       "SQG                                             338\n",
       "TRI REPORTER                                    293\n",
       "CONCENTRATED ANIMAL FEEDING OPERATION           256\n",
       "CESQG                                           238\n",
       "PHASE II MS4                                    202\n",
       "UNSPECIFIED UNIVERSE                            197\n",
       "RMP REPORTER                                    172\n",
       "COMMUNITY WATER SYSTEM                          141\n",
       "ICIS-NPDES MINOR                                 82\n",
       "AIR MAJOR                                        66\n",
       "TRANSIENT NON-COMMUNITY WATER SYSTEM             48\n",
       "TSD                                              48\n",
       "PESTICIDE PRODUCER                               41\n",
       "AIR SYNTHETIC MINOR                              40\n",
       "TSCA SUBMITTER                                   37\n",
       "AIR MINOR                                        37\n",
       "SUPERFUND NPL                                    36\n",
       "SUPERFUND (NON-NPL)                              29\n",
       "TRANSPORTER                                      27\n",
       "POTW                                             17\n",
       "HAZARDOUS WASTE BIENNIAL REPORTER                15\n",
       "TRANSFER FACILITY                                13\n",
       "OTHER HAZARDOUS WASTE ACTIVITIES                 13\n",
       "NON-TRANSIENT NON-COMMUNITY WATER SYSTEM         13\n",
       "NPDES PRETREATMENT PROGRAM                        8\n",
       "PHASE I MS4                                       5\n",
       "ICIS-NPDES MAJOR                                  3\n",
       "AIR EMISSIONS CLASSIFICATION UNKNOWN              2\n",
       "ELECTRIC GENERATOR                                1\n",
       "HAZARDOUS AND CRITERIA AIR POLLUTANT MAJOR        1\n",
       "STATE REGULATED TSD                               1\n",
       "COMPLIANCE ACTIVITY                               1\n",
       "NPDES PERMIT                                      1\n",
       "HAZARDOUS AIR POLLUTANT MAJOR                     1\n",
       "BROWNFIELDS PROPERTY                              1\n",
       "Name: Main Interest Type, dtype: int64"
      ]
     },
     "execution_count": 6,
     "metadata": {},
     "output_type": "execute_result"
    }
   ],
   "source": [
    "df['Main Interest Type'].value_counts()"
   ]
  },
  {
   "cell_type": "code",
   "execution_count": 7,
   "metadata": {},
   "outputs": [
    {
     "data": {
      "text/plain": [
       "Unnamed: 0                    object\n",
       "State                         object\n",
       "Main Interest Type            object\n",
       "Supplemental Interest Type    object\n",
       "Start of Relief               object\n",
       "Create_dt of Relief           object\n",
       "dtype: object"
      ]
     },
     "execution_count": 7,
     "metadata": {},
     "output_type": "execute_result"
    }
   ],
   "source": [
    "notAnObject = st_law_bars_wtr.astype(str)\n",
    "notAnObject.dtypes"
   ]
  },
  {
   "cell_type": "code",
   "execution_count": 8,
   "metadata": {},
   "outputs": [
    {
     "name": "stdout",
     "output_type": "stream",
     "text": [
      "0        False\n",
      "1         True\n",
      "2         True\n",
      "3        False\n",
      "4        False\n",
      "         ...  \n",
      "87452    False\n",
      "87453    False\n",
      "87454    False\n",
      "87455    False\n",
      "87456    False\n",
      "Name: Main Interest Type, Length: 87457, dtype: bool\n"
     ]
    }
   ],
   "source": [
    "waterGrab = notAnObject['Main Interest Type'].str.contains(\"WATER\", case = True, regex = True)\n",
    "print(waterGrab)"
   ]
  },
  {
   "cell_type": "code",
   "execution_count": 9,
   "metadata": {},
   "outputs": [
    {
     "name": "stdout",
     "output_type": "stream",
     "text": [
      "      Unnamed: 0 State                    Main Interest Type  \\\n",
      "1              7    al                STORM WATER INDUSTRIAL   \n",
      "2            135    al                STORM WATER INDUSTRIAL   \n",
      "12           259    al                STORM WATER INDUSTRIAL   \n",
      "20           398    al                STORM WATER INDUSTRIAL   \n",
      "22           402    al                STORM WATER INDUSTRIAL   \n",
      "...          ...   ...                                   ...   \n",
      "86665      72984    sc                STORM WATER INDUSTRIAL   \n",
      "86668      72987    sc                STORM WATER INDUSTRIAL   \n",
      "86843       7867    va                COMMUNITY WATER SYSTEM   \n",
      "86957      11542    va  TRANSIENT NON-COMMUNITY WATER SYSTEM   \n",
      "86958      11544    va  TRANSIENT NON-COMMUNITY WATER SYSTEM   \n",
      "\n",
      "            Supplemental Interest Type Start of Relief   Create_dt of Relief  \n",
      "1      ENFORCEMENT/COMPLIANCE ACTIVITY          2014.0  05-JUN-2018 00:00:00  \n",
      "2      ENFORCEMENT/COMPLIANCE ACTIVITY          2016.0  04-OCT-2017 00:00:00  \n",
      "12     ENFORCEMENT/COMPLIANCE ACTIVITY          2014.0  06-NOV-2017 00:00:00  \n",
      "20     ENFORCEMENT/COMPLIANCE ACTIVITY          2014.0  04-OCT-2017 00:00:00  \n",
      "22     ENFORCEMENT/COMPLIANCE ACTIVITY          2014.0  04-OCT-2017 00:00:00  \n",
      "...                                ...             ...                   ...  \n",
      "86665  ENFORCEMENT/COMPLIANCE ACTIVITY          2018.0  11-DEC-2018 15:00:41  \n",
      "86668  ENFORCEMENT/COMPLIANCE ACTIVITY          2018.0  11-DEC-2018 15:00:41  \n",
      "86843        FORMAL ENFORCEMENT ACTION          2016.0  11-JAN-2017 08:21:55  \n",
      "86957        FORMAL ENFORCEMENT ACTION          2016.0  07-OCT-2016 13:54:51  \n",
      "86958        FORMAL ENFORCEMENT ACTION          2016.0  07-OCT-2016 13:54:50  \n",
      "\n",
      "[2191 rows x 6 columns]\n"
     ]
    }
   ],
   "source": [
    "df = notAnObject[waterGrab]\n",
    "print(df)"
   ]
  },
  {
   "cell_type": "code",
   "execution_count": 10,
   "metadata": {},
   "outputs": [
    {
     "data": {
      "text/plain": [
       "STORM WATER INDUSTRIAL                      1089\n",
       "STORM WATER CONSTRUCTION                     900\n",
       "COMMUNITY WATER SYSTEM                       141\n",
       "TRANSIENT NON-COMMUNITY WATER SYSTEM          48\n",
       "NON-TRANSIENT NON-COMMUNITY WATER SYSTEM      13\n",
       "Name: Main Interest Type, dtype: int64"
      ]
     },
     "execution_count": 10,
     "metadata": {},
     "output_type": "execute_result"
    }
   ],
   "source": [
    "df['Main Interest Type'].value_counts()"
   ]
  },
  {
   "cell_type": "code",
   "execution_count": 11,
   "metadata": {},
   "outputs": [],
   "source": [
    "x = df[['Start of Relief', 'State', 'Main Interest Type']]"
   ]
  },
  {
   "cell_type": "code",
   "execution_count": 12,
   "metadata": {},
   "outputs": [],
   "source": [
    "def time_change(df):\n",
    "\n",
    "    sorted_states = ['al', 'ct', 'de', 'ga', \n",
    "                    'la', 'ma', 'md', 'me', \n",
    "                    'ms', 'nc', 'nh', 'nj', \n",
    "                    'ny', 'ri', 'sc', 'va']\n",
    "    \n",
    "    # Get df ready to become a percentage stacked bar chart\n",
    "    percent = df.groupby(['Start of Relief', 'State'])['Start of Relief'].count().unstack('State')/16*100\n",
    "    \n",
    "    # Sort df by income groups\n",
    "    percent.columns = pd.CategoricalIndex(percent.columns.values, \n",
    "                                     ordered=True, \n",
    "                                     categories=sorted_states)\n",
    "    percent = percent.sort_index(axis=1)\n",
    "    \n",
    "    # Plot\n",
    "    ax = percent.plot(kind='bar', stacked=True, \n",
    "                 title='Annual State Interest', \n",
    "                 figsize=(10,10), \n",
    "                 rot=0)\n",
    "    \n",
    "    plt.xlabel('Year')\n",
    "    plt.ylabel('Count')\n",
    "    plt.tick_params(left=False)\n",
    "    plt.legend(loc='upper right')\n",
    "    plt.axhline(20, color='white', alpha=0.25)\n",
    "    plt.axhline(40, color='white', alpha=0.25)\n",
    "    plt.axhline(60, color='white', alpha=0.25)\n",
    "    plt.axhline(80, color='white', alpha=0.25)\n",
    "    sns.despine(top=True, right=True)\n",
    "    \n",
    "    plt.show()"
   ]
  },
  {
   "cell_type": "code",
   "execution_count": 13,
   "metadata": {
    "scrolled": true
   },
   "outputs": [
    {
     "data": {
      "image/png": "[encoded data removed]",
      "text/plain": [
       "<Figure size 720x720 with 1 Axes>"
      ]
     },
     "metadata": {
      "needs_background": "light"
     },
     "output_type": "display_data"
    }
   ],
   "source": [
    "# Group dataset by State and Main Interest Type\n",
    "grouped = x.groupby(['State', 'Main Interest Type']).count().reset_index()\n",
    "\n",
    "# Pivot dataset\n",
    "g_pivot = grouped.pivot(index='Main Interest Type', columns='State', values='Start of Relief')\n",
    "g_pivot = g_pivot.fillna(0)\n",
    "\n",
    "\n",
    "plt.figure(figsize=(10,10))\n",
    "\n",
    "# Plot breakdown\n",
    "ax2 = plt.subplot(1,1,1)\n",
    "g_pivot.div(g_pivot.sum(axis=1), axis=0).plot.bar(stacked=True, width=0.9, ax=ax2)\n",
    "ax2.set_title('Percentage of Ratings Given by Product Category', fontsize=15)\n",
    "ax2.set_xlabel('Product Category')\n",
    "ax2.set_yticklabels(['0', '20%', '40%', '60%', '80%', '100%'])\n",
    "ax2.legend(loc='upper center', bbox_to_anchor=(1.05, 0.8), shadow=True, ncol=1)\n",
    "plt.xticks(fontsize=12)\n",
    "\n",
    "sns.despine(top=True, right=True)\n",
    "plt.tight_layout()\n"
   ]
  },
  {
   "cell_type": "code",
   "execution_count": 14,
   "metadata": {},
   "outputs": [
    {
     "data": {
      "image/png": "[encoded data removed]",
      "text/plain": [
       "<Figure size 720x720 with 1 Axes>"
      ]
     },
     "metadata": {
      "needs_background": "light"
     },
     "output_type": "display_data"
    },
    {
     "data": {
      "text/plain": [
       "<Figure size 432x288 with 0 Axes>"
      ]
     },
     "metadata": {},
     "output_type": "display_data"
    }
   ],
   "source": [
    "time_change(x)\n",
    "plt.savefig(\"output_data/State_Interest_perYear.png\")"
   ]
  }
 ],
 "metadata": {
  "kernelspec": {
   "display_name": "Python 3",
   "language": "python",
   "name": "python3"
  },
  "language_info": {
   "codemirror_mode": {
    "name": "ipython",
    "version": 3
   },
   "file_extension": ".py",
   "mimetype": "text/x-python",
   "name": "python",
   "nbconvert_exporter": "python",
   "pygments_lexer": "ipython3",
   "version": "3.7.5"
  }
 },
 "nbformat": 4,
 "nbformat_minor": 2
}
