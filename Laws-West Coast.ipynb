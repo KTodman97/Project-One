{
 "cells": [
  {
   "cell_type": "code",
   "execution_count": 8,
   "metadata": {},
   "outputs": [],
   "source": [
    "#Add dependencies\n",
    "import pandas as pd\n",
    "import numpy as np\n",
    "import datetime"
   ]
  },
  {
   "cell_type": "code",
   "execution_count": 2,
   "metadata": {},
   "outputs": [],
   "source": [
    "#Pull in data from the state's EPA files on the laws and regulations per state\n",
    "ak_df = pd.read_csv('Resources/AK_SUPP_INTEREST_FILE.CSV') # Alaska\n",
    "ca_df = pd.read_csv('Resources/CA_SUPP_INTEREST_FILE.CSV') # California\n",
    "hi_df = pd.read_csv('Resources/HI_SUPP_INTEREST_FILE.CSV') # Hawaii\n",
    "or_df = pd.read_csv('Resources/OR_SUPP_INTEREST_FILE.CSV') # Oregon\n",
    "wa_df = pd.read_csv('Resources/WA_SUPP_INTEREST_FILE.CSV') # Washington\n"
   ]
  },
  {
   "cell_type": "code",
   "execution_count": 3,
   "metadata": {},
   "outputs": [],
   "source": [
    "#Pull the relevant columns for each state \n",
    "ak_df = ak_df.reindex(['INTEREST_TYPE', 'SUP_INTEREST_TYPE', 'START_YEAR'], axis = 'columns')\n",
    "ca_df = ca_df.reindex(['INTEREST_TYPE', 'SUP_INTEREST_TYPE', 'START_YEAR'], axis = 'columns')\n",
    "hi_df = hi_df.reindex(['INTEREST_TYPE', 'SUP_INTEREST_TYPE', 'START_YEAR'], axis = 'columns')\n",
    "or_df = or_df.reindex(['INTEREST_TYPE', 'SUP_INTEREST_TYPE', 'START_YEAR'], axis = 'columns')\n",
    "wa_df = wa_df.reindex(['INTEREST_TYPE', 'SUP_INTEREST_TYPE', 'START_YEAR'], axis = 'columns')\n"
   ]
  },
  {
   "cell_type": "code",
   "execution_count": 4,
   "metadata": {},
   "outputs": [],
   "source": [
    "#Add state column\n",
    "ak_df.insert(0,'STATE','AK')\n",
    "ca_df.insert(0,'STATE','CA')\n",
    "hi_df.insert(0,'STATE','HI')\n",
    "or_df.insert(0,'STATE','OR')\n",
    "wa_df.insert(0,'STATE','WA')"
   ]
  },
  {
   "cell_type": "code",
   "execution_count": 5,
   "metadata": {},
   "outputs": [],
   "source": [
    "#Append data frames\n",
    "west_coast_df = ak_df.append(ca_df, ignore_index = True)\n",
    "west_coast_df = west_coast_df.append(hi_df, ignore_index = True)\n",
    "west_coast_df = west_coast_df.append(or_df, ignore_index = True)\n",
    "west_coast_df = west_coast_df.append(wa_df, ignore_index = True)\n"
   ]
  },
  {
   "cell_type": "code",
   "execution_count": 6,
   "metadata": {},
   "outputs": [],
   "source": [
    "#Drop the rows that pertain to 'Air Pollution'\n",
    "west_coast_df = west_coast_df[~west_coast_df['INTEREST_TYPE'].str.contains('AIR')]\n",
    "west_coast_df = west_coast_df[~west_coast_df['SUP_INTEREST_TYPE'].str.contains('AIR|REMEDIATION|FUNDING')]\n",
    "\n",
    "#Remove spaces from all columns\n",
    "west_coast_df.columns = west_coast_df.columns.str.replace(' ', '')\n",
    "\n",
    "#Remove decimals in dataframes\n",
    "pd.set_option('precision', 0)"
   ]
  },
  {
   "cell_type": "code",
   "execution_count": null,
   "metadata": {},
   "outputs": [],
   "source": [
    "#Pull the counts of laws/regulations by State and Year\n",
    "state_count_df = pd.DataFrame(west_coast_df.groupby(['STATE','START_YEAR']).count())\n",
    "state_count_df = state_count_df.reset_index()\n",
    "\n",
    "#Filter out only the years 2014 - 2018\n",
    "state_count_df = state_count_df.loc[state_count_df['START_YEAR'].astype(str).str.contains('2014|2015|2016|2017|2018')]\n",
    "export_state_data = state_count_df.to_csv('output_data/w_coast_laws_by_state.csv')"
   ]
  },
  {
   "cell_type": "code",
   "execution_count": null,
   "metadata": {},
   "outputs": [],
   "source": [
    "#Pull the counts of laws/regulations by year for the entire coast\n",
    "coast_count_df = pd.DataFrame(west_coast_df.groupby(['START_YEAR']).count())\n",
    "coast_count_df = coast_count_df.reset_index()\n",
    "\n",
    "#Filter out only the years 2014 - 2018\n",
    "coast_count_df = coast_count_df.loc[coast_count_df['START_YEAR'].astype(str).str.contains('2014|2015|2016|2017|2018')]\n",
    "export_coast_data = coast_count_df.to_csv('output_data/w_coast_laws.csv')"
   ]
  },
  {
   "cell_type": "code",
   "execution_count": null,
   "metadata": {},
   "outputs": [],
   "source": [
    "\n"
   ]
  },
  {
   "cell_type": "code",
   "execution_count": null,
   "metadata": {},
   "outputs": [],
   "source": []
  }
 ],
 "metadata": {
  "kernelspec": {
   "display_name": "Python [conda env:.conda-PythonData]",
   "language": "python",
   "name": "conda-env-.conda-PythonData-py"
  },
  "language_info": {
   "codemirror_mode": {
    "name": "ipython",
    "version": 3
   },
   "file_extension": ".py",
   "mimetype": "text/x-python",
   "name": "python",
   "nbconvert_exporter": "python",
   "pygments_lexer": "ipython3",
   "version": "3.6.9"
  }
 },
 "nbformat": 4,
 "nbformat_minor": 2
}
